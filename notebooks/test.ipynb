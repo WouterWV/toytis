{
 "cells": [
  {
   "cell_type": "code",
   "execution_count": 1,
   "metadata": {},
   "outputs": [],
   "source": [
    "%load_ext autoreload\n",
    "%matplotlib qt"
   ]
  },
  {
   "cell_type": "code",
   "execution_count": 2,
   "metadata": {},
   "outputs": [],
   "source": [
    "import os\n",
    "import shutil\n",
    "import logging\n",
    "import matplotlib.pyplot as plt\n",
    "import numpy as np\n",
    "\n",
    "\n",
    "%autoreload\n",
    "\n",
    "os.chdir(\"/home/wouter/onesnake\")\n",
    "from simulation import Simulation\n",
    "\n",
    "if os.path.exists(\"test\"):\n",
    "    shutil.rmtree(\"test\")\n",
    "if not os.path.exists(\"test\"):\n",
    "    os.mkdir(\"test\")\n",
    "# copy all py files of cwd to test\n",
    "for file in os.listdir(os.getcwd()):\n",
    "    if file.endswith(\".py\"):\n",
    "        shutil.copy(file, \"test\")\n",
    "os.chdir(\"test\")\n",
    "\n",
    "intfs = [-1., -0.75, -0.5, -0.25, 0., 0.25, 0.5, 0.75, 1., 1.25]\n",
    "#intfs = [-1., -0.85, -0.7, -0.55, -0.4, -0.25, -0.1, 0.05, 0.2, 0.35, 0.5, 0.65, 0.8, 0.95, 1.25]\n",
    "\n",
    "settings = {\"interfaces\" : intfs,\n",
    "            \"simtype\" : \"retis\", \n",
    "            \"method\" : \"load\",\n",
    "            \"max_len\" : 100000,\n",
    "            \"dt\": 0.01,\n",
    "            \"temperature\": .3,\n",
    "            \"friction\": 10.,\n",
    "            \"max_cycles\": 1000000\n",
    "            }\n",
    "\n",
    "logger = logging.getLogger()\n",
    "file_handler = logging.FileHandler(\"logging.log\")\n",
    "formatter = logging.Formatter('[%(levelname)s] %(name)s %(funcName)s %(lineno)d: %(message)s')\n",
    "file_handler.setFormatter(formatter)\n",
    "logger.addHandler(file_handler)\n",
    "logger.setLevel(logging.INFO)\n",
    "logger.info(\"Hello world!\")\n",
    "sim = Simulation(settings)"
   ]
  },
  {
   "cell_type": "code",
   "execution_count": 3,
   "metadata": {},
   "outputs": [],
   "source": [
    "n=0\n",
    "while n < 100:\n",
    "    sim.do_shooting_moves()\n",
    "    n+=1\n"
   ]
  },
  {
   "cell_type": "code",
   "execution_count": 23,
   "metadata": {},
   "outputs": [],
   "source": [
    "fig,ax =plt.subplots()\n",
    "# plot the first and second paths of each ensemble\n",
    "for ens in sim.ensembles:\n",
    "    ax.plot([x[0] for x in ens.paths[0].phasepoints], label=ens.name+' '+str(ens.id), lw=1,ls=\"--\")\n",
    "    #ax.plot([x[0] for x in ens.paths[1].phasepoints], label=ens.name)\n",
    "# plot the simulation interfaces as horizontal lines\n",
    "for intf in sim.intfs:\n",
    "    ax.axhline(intf, color=\"black\", linestyle=\"--\")\n",
    "ax.legend()\n",
    "fig.show()"
   ]
  },
  {
   "cell_type": "code",
   "execution_count": null,
   "metadata": {},
   "outputs": [],
   "source": [
    "intfs = [-1., -0.75, -0.5, -0.25, 0., 0.25, 0.5, 0.75, 1., 1.25]\n",
    "intfs2 = [-1, -.8, -.51, -.22, .07, .36, .65, .93, 1.25]\n",
    "intfs3 = [-1., -.69, -.387, -.0767, .232, .541, .85, 1.25]\n"
   ]
  },
  {
   "cell_type": "code",
   "execution_count": 5,
   "metadata": {},
   "outputs": [],
   "source": [
    "# plot the potential and the interfaces\n",
    "fig,ax =plt.subplots()\n",
    "sim.ensembles[0].engine.potential.plot_potential(ax)\n",
    "for intf in sim.intfs:\n",
    "    ax.axvline(intf, color=\"black\", linestyle=\"--\")\n",
    "fig.show()"
   ]
  },
  {
   "cell_type": "code",
   "execution_count": null,
   "metadata": {},
   "outputs": [],
   "source": []
  }
 ],
 "metadata": {
  "kernelspec": {
   "display_name": "pptis_wv",
   "language": "python",
   "name": "python3"
  },
  "language_info": {
   "codemirror_mode": {
    "name": "ipython",
    "version": 3
   },
   "file_extension": ".py",
   "mimetype": "text/x-python",
   "name": "python",
   "nbconvert_exporter": "python",
   "pygments_lexer": "ipython3",
   "version": "3.10.9"
  },
  "orig_nbformat": 4,
  "vscode": {
   "interpreter": {
    "hash": "e2814c5dbc854e5b4bd413f99a7ac175dc73a39295abc619f6a15c457a02aa7d"
   }
  }
 },
 "nbformat": 4,
 "nbformat_minor": 2
}
