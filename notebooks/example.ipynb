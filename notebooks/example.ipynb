{
 "cells": [
  {
   "cell_type": "code",
   "execution_count": null,
   "metadata": {},
   "outputs": [],
   "source": [
    "import os\n",
    "import shutil\n",
    "import logging\n",
    "import matplotlib.pyplot as plt\n",
    "import numpy as np\n",
    "from simulation import Simulation\n",
    "from funcs import plot_paths, overlay_paths\n",
    "%matplotlib qt\n",
    "\n",
    "dir_path = \"PATH WHERE SNAKE PY FILES ARE\"\n",
    "os.chdir(dir_path)\n",
    "\n",
    "work_dir = \"PATH WHERE YOU WANT TO RUN THE SIMUL\"\n",
    "\n",
    "if os.path.exists(work_dir):\n",
    "    shutil.rmtree(work_dir)\n",
    "if not os.path.exists(work_dir):\n",
    "    os.mkdir(work_dir)\n",
    "# copy all py files of cwd to test\n",
    "for file in os.listdir(os.getcwd()):\n",
    "    if file.endswith(\".py\"):\n",
    "        shutil.copy(file, work_dir)\n",
    "os.chdir(work_dir)\n"
   ]
  },
  {
   "cell_type": "code",
   "execution_count": null,
   "metadata": {},
   "outputs": [],
   "source": [
    "intfs = [-1., -0.75, -0.5, -0.25, 0., 0.25, 0.5, 0.75, 1., 1.25]\n",
    "\n",
    "# Set-up the simulation keys for RETIS\n",
    "retisset = {\"interfaces\" : intfs,\n",
    "            \"simtype\" : \"retis\", \n",
    "            \"method\" : \"load\",\n",
    "            \"max_len\" : 100000,\n",
    "            \"dt\": 0.01,\n",
    "            \"temperature\": .3,\n",
    "            \"friction\": 10.,\n",
    "            \"max_cycles\": 1000000,\n",
    "            \"p_shoot\": 0.8,\n",
    "            \"include_stateB\": False,\n",
    "            'prime_both_starts': False,\n",
    "            'snake_Lmax': 0,\n",
    "            'max_paths': 5,\n",
    "            'save_pe2': False,\n",
    "            'pe2_N': 0\n",
    "}\n",
    "# or for REPPTIS\n",
    "repptisset = {\"interfaces\" : intfs,\n",
    "             \"simtype\" : \"repptis\", \n",
    "             \"method\" : \"load\",\n",
    "             \"max_len\" : 100000,\n",
    "             \"dt\": 0.01,\n",
    "             \"temperature\": .3,\n",
    "             \"friction\": 10.,\n",
    "             \"max_cycles\": 1000000,\n",
    "             \"p_shoot\": 0.8,\n",
    "             \"include_stateB\": False,\n",
    "             'prime_both_starts': False,\n",
    "             'snake_Lmax': 0,\n",
    "             'max_paths': 5,\n",
    "             'save_pe2': False,\n",
    "             'pe2_N': 0\n",
    "}\n",
    "\n",
    "logger = logging.getLogger()\n",
    "file_handler = logging.FileHandler(\"logging.log\")\n",
    "formatter = logging.Formatter('[%(levelname)s] %(name)s %(funcName)s %(lineno)d: %(message)s')\n",
    "file_handler.setFormatter(formatter)\n",
    "logger.addHandler(file_handler)\n",
    "logger.setLevel(logging.INFO)\n",
    "logger.info(\"Hello world!\")\n",
    "sim = Simulation(retisset)\n",
    "\n",
    "# set loglevel to warning for matplotlib\n",
    "logging.getLogger(\"matplotlib\").setLevel(logging.WARNING)\n",
    "\n",
    "#sim.run()\n",
    "sim.run()\n",
    "\n",
    "# Check the simulation output in the pathensemble.txt files \n",
    "# The output is compatible with pyretisanalyse. But you'll have to change\n",
    "# the dirnames from [0, 1, 2, ...] --> [000, 001, 002, ...]"
   ]
  },
  {
   "cell_type": "code",
   "execution_count": null,
   "metadata": {},
   "outputs": [],
   "source": [
    "# plot the potential and the interfaces\n",
    "fig,ax =plt.subplots()\n",
    "sim.ensembles[0].engine.potential.plot_potential(ax)\n",
    "for intf in sim.intfs:\n",
    "    ax.axvline(intf, color=\"black\", linestyle=\"--\")\n",
    "fig.show()"
   ]
  },
  {
   "cell_type": "code",
   "execution_count": null,
   "metadata": {},
   "outputs": [],
   "source": [
    "# A Langevin engine is used. This can be swapped for a velocity verlet engine if \n",
    "# you want NVE dynamics. (But you'll have to change this in ensemble.py, where\n",
    "# the engine object is initialized.)"
   ]
  }
 ],
 "metadata": {
  "kernelspec": {
   "display_name": "pptis_wv",
   "language": "python",
   "name": "python3"
  },
  "language_info": {
   "codemirror_mode": {
    "name": "ipython",
    "version": 3
   },
   "file_extension": ".py",
   "mimetype": "text/x-python",
   "name": "python",
   "nbconvert_exporter": "python",
   "pygments_lexer": "ipython3",
   "version": "3.10.9"
  },
  "orig_nbformat": 4,
  "vscode": {
   "interpreter": {
    "hash": "e2814c5dbc854e5b4bd413f99a7ac175dc73a39295abc619f6a15c457a02aa7d"
   }
  }
 },
 "nbformat": 4,
 "nbformat_minor": 2
}
